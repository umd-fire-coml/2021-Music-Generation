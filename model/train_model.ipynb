{
 "cells": [
  {
   "cell_type": "code",
   "execution_count": 3,
   "metadata": {},
   "outputs": [],
   "source": [
    "# Importing all libraries and files\n",
    "\n",
    "import sys\n",
    "\n",
    "sys.path.append('../data')\n",
    "\n",
    "from keras.callbacks import ModelCheckpoint\n",
    "\n",
    "import tensorflow as tf\n",
    "import datetime\n",
    "\n",
    "from data_prep import prepare\n",
    "from model import createModel\n",
    "from clean import cleanup\n",
    "from os.path import exists\n",
    "\n",
    "from data_download_small import small\n",
    "from train import train_model"
   ]
  },
  {
   "cell_type": "code",
   "execution_count": 4,
   "metadata": {},
   "outputs": [
    {
     "name": "stdout",
     "output_type": "stream",
     "text": [
      "Done!\n"
     ]
    }
   ],
   "source": [
    "# downloading dataset\n",
    "\n",
    "small()"
   ]
  },
  {
   "cell_type": "code",
   "execution_count": 6,
   "metadata": {},
   "outputs": [
    {
     "name": "stdout",
     "output_type": "stream",
     "text": [
      "model/midi_songs\\0fithos.mid\n",
      "Error parsing midi!\n",
      "model/midi_songs\\8.mid\n",
      "model/midi_songs\\ahead_on_our_way_piano.mid\n",
      "model/midi_songs\\AT.mid\n",
      "model/midi_songs\\balamb.mid\n",
      "model/midi_songs\\bcm.mid\n",
      "model/midi_songs\\BlueStone_LastDungeon.mid\n",
      "model/midi_songs\\braska.mid\n",
      "model/midi_songs\\caitsith.mid\n",
      "model/midi_songs\\Cids.mid\n",
      "model/midi_songs\\cosmo.mid\n",
      "model/midi_songs\\costadsol.mid\n",
      "model/midi_songs\\dayafter.mid\n",
      "model/midi_songs\\decisive.mid\n",
      "model/midi_songs\\dontbeafraid.mid\n",
      "model/midi_songs\\DOS.mid\n",
      "model/midi_songs\\electric_de_chocobo.mid\n",
      "Error parsing midi!\n",
      "model/midi_songs\\Eternal_Harvest.mid\n",
      "model/midi_songs\\EyesOnMePiano.mid\n",
      "model/midi_songs\\ff11_awakening_piano.mid\n",
      "model/midi_songs\\ff1battp.mid\n",
      "model/midi_songs\\FF3_Battle_(Piano).mid\n",
      "model/midi_songs\\FF3_Third_Phase_Final_(Piano).mid\n",
      "model/midi_songs\\ff4-airship.mid\n",
      "Error parsing midi!\n",
      "model/midi_songs\\Ff4-BattleLust.mid\n",
      "model/midi_songs\\ff4-fight1.mid\n",
      "model/midi_songs\\ff4-town.mid\n",
      "model/midi_songs\\FF4.mid\n",
      "model/midi_songs\\ff4pclov.mid\n",
      "model/midi_songs\\ff4_piano_collections-main_theme.mid\n",
      "Error parsing midi!\n",
      "model/midi_songs\\FF6epitaph_piano.mid\n",
      "Error parsing midi!\n",
      "model/midi_songs\\ff6shap.mid\n",
      "model/midi_songs\\Ff7-Cinco.mid\n",
      "model/midi_songs\\Ff7-Jenova_Absolute.mid\n",
      "model/midi_songs\\ff7-mainmidi.mid\n",
      "model/midi_songs\\Ff7-One_Winged.mid\n",
      "model/midi_songs\\ff7themep.mid\n",
      "model/midi_songs\\ff8-lfp.mid\n",
      "model/midi_songs\\FF8_Shuffle_or_boogie_pc.mid\n",
      "model/midi_songs\\FFIII_Edgar_And_Sabin_Piano.mid\n",
      "model/midi_songs\\FFIXQuMarshP.mid\n",
      "model/midi_songs\\FFIX_Piano.mid\n",
      "model/midi_songs\\FFVII_BATTLE.mid\n",
      "model/midi_songs\\FFX_-_Ending_Theme_(Piano_Version)_-_by_Angel_FF.mid\n",
      "model/midi_songs\\Fiend_Battle_(Piano).mid\n",
      "model/midi_songs\\Fierce_Battle_(Piano).mid\n",
      "model/midi_songs\\figaro.mid\n",
      "Error parsing midi!\n",
      "model/midi_songs\\Finalfantasy5gilgameshp.mid\n",
      "model/midi_songs\\Finalfantasy6fanfarecomplete.mid\n",
      "model/midi_songs\\Final_Fantasy_7_-_Judgement_Day_Piano.mid\n",
      "Error parsing midi!\n",
      "model/midi_songs\\Final_Fantasy_Matouyas_Cave_Piano.mid\n",
      "model/midi_songs\\fortresscondor.mid\n",
      "model/midi_songs\\Fyw_piano.mid\n",
      "model/midi_songs\\gerudo.mid\n",
      "Error parsing midi!\n",
      "model/midi_songs\\goldsaucer.mid\n",
      "model/midi_songs\\Gold_Silver_Rival_Battle.mid\n",
      "model/midi_songs\\great_war.mid\n",
      "model/midi_songs\\HighwindTakestotheSkies.mid\n",
      "model/midi_songs\\In_Zanarkand.mid\n",
      "model/midi_songs\\JENOVA.mid\n",
      "model/midi_songs\\Kingdom_Hearts_Dearly_Beloved.mid\n",
      "Error parsing midi!\n",
      "model/midi_songs\\Kingdom_Hearts_Traverse_Town.mid\n",
      "model/midi_songs\\Life_Stream.mid\n",
      "model/midi_songs\\lurk_in_dark.mid\n",
      "model/midi_songs\\midi_songs_ff7-mainmidi.mid\n",
      "model/midi_songs\\mining.mid\n",
      "model/midi_songs\\Oppressed.mid\n",
      "model/midi_songs\\OTD5YA.mid\n",
      "model/midi_songs\\path_of_repentance.mid\n",
      "Error parsing midi!\n",
      "model/midi_songs\\pkelite4.mid\n",
      "model/midi_songs\\Rachel_Piano_tempofix.mid\n",
      "model/midi_songs\\redwings.mid\n",
      "model/midi_songs\\relmstheme-piano.mid\n",
      "model/midi_songs\\roseofmay-piano.mid\n",
      "model/midi_songs\\rufus.mid\n",
      "model/midi_songs\\Rydia_pc.mid\n",
      "model/midi_songs\\sandy.mid\n",
      "model/midi_songs\\sera_.mid\n",
      "model/midi_songs\\sobf.mid\n",
      "model/midi_songs\\Still_Alive-1.mid\n",
      "model/midi_songs\\Suteki_Da_Ne_(Piano_Version).mid\n",
      "Error parsing midi!\n",
      "model/midi_songs\\thenightmarebegins.mid\n",
      "model/midi_songs\\thoughts.mid\n",
      "model/midi_songs\\tifap.mid\n",
      "model/midi_songs\\tpirtsd-piano.mid\n",
      "model/midi_songs\\traitor.mid\n",
      "model/midi_songs\\ultimafro.mid\n",
      "model/midi_songs\\ultros.mid\n",
      "model/midi_songs\\VincentPiano.mid\n",
      "Error parsing midi!\n",
      "model/midi_songs\\ViviinAlexandria.mid\n",
      "Error parsing midi!\n",
      "model/midi_songs\\waltz_de_choco.mid\n",
      "model/midi_songs\\Zelda_Overworld.mid\n",
      "model/midi_songs\\z_aeristhemepiano.mid\n",
      "LOADING WEIGHTS\n"
     ]
    }
   ],
   "source": [
    "# prepare for training\n",
    "\n",
    "network_input, network_output, n_vocab, predictnames, sequence_length = prepare()\n",
    "\n",
    "# create model\n",
    "model = createModel(network_input, n_vocab)\n",
    "\n",
    "# load weights\n",
    "file_exists = exists(\"model/weights.hdf5\")\n",
    "\n",
    "# clean workspace up\n",
    "cleanup()\n",
    "\n",
    "if file_exists is True:\n",
    "    print(\"LOADING WEIGHTS\")\n",
    "    model.load_weights(\"model/weights.hdf5\")\n",
    "\n",
    "filepath = \"model/weights/weights-improvement-{epoch:02d}-{loss:.4f}-bigger.hdf5\""
   ]
  },
  {
   "cell_type": "code",
   "execution_count": 7,
   "metadata": {},
   "outputs": [
    {
     "name": "stdout",
     "output_type": "stream",
     "text": [
      "Epoch 1/100\n",
      "1142/1508 [=====================>........] - ETA: 9s - loss: 0.0665"
     ]
    },
    {
     "ename": "KeyboardInterrupt",
     "evalue": "",
     "output_type": "error",
     "traceback": [
      "\u001b[1;31m---------------------------------------------------------------------------\u001b[0m",
      "\u001b[1;31mKeyboardInterrupt\u001b[0m                         Traceback (most recent call last)",
      "\u001b[1;32m~\\AppData\\Local\\Temp/ipykernel_17688/3480805039.py\u001b[0m in \u001b[0;36m<module>\u001b[1;34m\u001b[0m\n\u001b[0;32m      1\u001b[0m \u001b[1;31m# train model\u001b[0m\u001b[1;33m\u001b[0m\u001b[1;33m\u001b[0m\u001b[1;33m\u001b[0m\u001b[0m\n\u001b[1;32m----> 2\u001b[1;33m \u001b[0mtrain_model\u001b[0m\u001b[1;33m(\u001b[0m\u001b[0mnetwork_input\u001b[0m\u001b[1;33m,\u001b[0m \u001b[0mnetwork_output\u001b[0m\u001b[1;33m,\u001b[0m \u001b[0mmodel\u001b[0m\u001b[1;33m,\u001b[0m \u001b[0mfilepath\u001b[0m\u001b[1;33m)\u001b[0m\u001b[1;33m\u001b[0m\u001b[1;33m\u001b[0m\u001b[0m\n\u001b[0m",
      "\u001b[1;32mc:\\Users\\Njose\\Documents\\Projects\\fire298\\2021-Music-Generation\\model\\train.py\u001b[0m in \u001b[0;36mtrain_model\u001b[1;34m(network_input, network_output, model, filepath)\u001b[0m\n\u001b[0;32m     22\u001b[0m \u001b[1;33m\u001b[0m\u001b[0m\n\u001b[0;32m     23\u001b[0m     \u001b[0mcallbacks_list\u001b[0m \u001b[1;33m=\u001b[0m \u001b[1;33m[\u001b[0m\u001b[0mcheckpoint\u001b[0m\u001b[1;33m,\u001b[0m \u001b[0mtensorboard_callback\u001b[0m\u001b[1;33m]\u001b[0m\u001b[1;33m\u001b[0m\u001b[1;33m\u001b[0m\u001b[0m\n\u001b[1;32m---> 24\u001b[1;33m     \u001b[0mmodel\u001b[0m\u001b[1;33m.\u001b[0m\u001b[0mfit\u001b[0m\u001b[1;33m(\u001b[0m\u001b[0mnetwork_input\u001b[0m\u001b[1;33m,\u001b[0m \u001b[0mnetwork_output\u001b[0m\u001b[1;33m,\u001b[0m \u001b[0mepochs\u001b[0m\u001b[1;33m=\u001b[0m\u001b[1;36m2\u001b[0m\u001b[1;33m,\u001b[0m \u001b[0mbatch_size\u001b[0m\u001b[1;33m=\u001b[0m\u001b[1;36m25\u001b[0m\u001b[1;33m,\u001b[0m \u001b[0mcallbacks\u001b[0m\u001b[1;33m=\u001b[0m\u001b[0mcallbacks_list\u001b[0m\u001b[1;33m)\u001b[0m\u001b[1;33m\u001b[0m\u001b[1;33m\u001b[0m\u001b[0m\n\u001b[0m\u001b[0;32m     25\u001b[0m     \u001b[0mcleanup\u001b[0m\u001b[1;33m(\u001b[0m\u001b[1;33m)\u001b[0m\u001b[1;33m\u001b[0m\u001b[1;33m\u001b[0m\u001b[0m\n",
      "\u001b[1;32mC:\\Python39\\lib\\site-packages\\keras\\engine\\training.py\u001b[0m in \u001b[0;36mfit\u001b[1;34m(self, x, y, batch_size, epochs, verbose, callbacks, validation_split, validation_data, shuffle, class_weight, sample_weight, initial_epoch, steps_per_epoch, validation_steps, validation_batch_size, validation_freq, max_queue_size, workers, use_multiprocessing)\u001b[0m\n\u001b[0;32m   1182\u001b[0m                 _r=1):\n\u001b[0;32m   1183\u001b[0m               \u001b[0mcallbacks\u001b[0m\u001b[1;33m.\u001b[0m\u001b[0mon_train_batch_begin\u001b[0m\u001b[1;33m(\u001b[0m\u001b[0mstep\u001b[0m\u001b[1;33m)\u001b[0m\u001b[1;33m\u001b[0m\u001b[1;33m\u001b[0m\u001b[0m\n\u001b[1;32m-> 1184\u001b[1;33m               \u001b[0mtmp_logs\u001b[0m \u001b[1;33m=\u001b[0m \u001b[0mself\u001b[0m\u001b[1;33m.\u001b[0m\u001b[0mtrain_function\u001b[0m\u001b[1;33m(\u001b[0m\u001b[0miterator\u001b[0m\u001b[1;33m)\u001b[0m\u001b[1;33m\u001b[0m\u001b[1;33m\u001b[0m\u001b[0m\n\u001b[0m\u001b[0;32m   1185\u001b[0m               \u001b[1;32mif\u001b[0m \u001b[0mdata_handler\u001b[0m\u001b[1;33m.\u001b[0m\u001b[0mshould_sync\u001b[0m\u001b[1;33m:\u001b[0m\u001b[1;33m\u001b[0m\u001b[1;33m\u001b[0m\u001b[0m\n\u001b[0;32m   1186\u001b[0m                 \u001b[0mcontext\u001b[0m\u001b[1;33m.\u001b[0m\u001b[0masync_wait\u001b[0m\u001b[1;33m(\u001b[0m\u001b[1;33m)\u001b[0m\u001b[1;33m\u001b[0m\u001b[1;33m\u001b[0m\u001b[0m\n",
      "\u001b[1;32mC:\\Python39\\lib\\site-packages\\tensorflow\\python\\eager\\def_function.py\u001b[0m in \u001b[0;36m__call__\u001b[1;34m(self, *args, **kwds)\u001b[0m\n\u001b[0;32m    883\u001b[0m \u001b[1;33m\u001b[0m\u001b[0m\n\u001b[0;32m    884\u001b[0m       \u001b[1;32mwith\u001b[0m \u001b[0mOptionalXlaContext\u001b[0m\u001b[1;33m(\u001b[0m\u001b[0mself\u001b[0m\u001b[1;33m.\u001b[0m\u001b[0m_jit_compile\u001b[0m\u001b[1;33m)\u001b[0m\u001b[1;33m:\u001b[0m\u001b[1;33m\u001b[0m\u001b[1;33m\u001b[0m\u001b[0m\n\u001b[1;32m--> 885\u001b[1;33m         \u001b[0mresult\u001b[0m \u001b[1;33m=\u001b[0m \u001b[0mself\u001b[0m\u001b[1;33m.\u001b[0m\u001b[0m_call\u001b[0m\u001b[1;33m(\u001b[0m\u001b[1;33m*\u001b[0m\u001b[0margs\u001b[0m\u001b[1;33m,\u001b[0m \u001b[1;33m**\u001b[0m\u001b[0mkwds\u001b[0m\u001b[1;33m)\u001b[0m\u001b[1;33m\u001b[0m\u001b[1;33m\u001b[0m\u001b[0m\n\u001b[0m\u001b[0;32m    886\u001b[0m \u001b[1;33m\u001b[0m\u001b[0m\n\u001b[0;32m    887\u001b[0m       \u001b[0mnew_tracing_count\u001b[0m \u001b[1;33m=\u001b[0m \u001b[0mself\u001b[0m\u001b[1;33m.\u001b[0m\u001b[0mexperimental_get_tracing_count\u001b[0m\u001b[1;33m(\u001b[0m\u001b[1;33m)\u001b[0m\u001b[1;33m\u001b[0m\u001b[1;33m\u001b[0m\u001b[0m\n",
      "\u001b[1;32mC:\\Python39\\lib\\site-packages\\tensorflow\\python\\eager\\def_function.py\u001b[0m in \u001b[0;36m_call\u001b[1;34m(self, *args, **kwds)\u001b[0m\n\u001b[0;32m    915\u001b[0m       \u001b[1;31m# In this case we have created variables on the first call, so we run the\u001b[0m\u001b[1;33m\u001b[0m\u001b[1;33m\u001b[0m\u001b[1;33m\u001b[0m\u001b[0m\n\u001b[0;32m    916\u001b[0m       \u001b[1;31m# defunned version which is guaranteed to never create variables.\u001b[0m\u001b[1;33m\u001b[0m\u001b[1;33m\u001b[0m\u001b[1;33m\u001b[0m\u001b[0m\n\u001b[1;32m--> 917\u001b[1;33m       \u001b[1;32mreturn\u001b[0m \u001b[0mself\u001b[0m\u001b[1;33m.\u001b[0m\u001b[0m_stateless_fn\u001b[0m\u001b[1;33m(\u001b[0m\u001b[1;33m*\u001b[0m\u001b[0margs\u001b[0m\u001b[1;33m,\u001b[0m \u001b[1;33m**\u001b[0m\u001b[0mkwds\u001b[0m\u001b[1;33m)\u001b[0m  \u001b[1;31m# pylint: disable=not-callable\u001b[0m\u001b[1;33m\u001b[0m\u001b[1;33m\u001b[0m\u001b[0m\n\u001b[0m\u001b[0;32m    918\u001b[0m     \u001b[1;32melif\u001b[0m \u001b[0mself\u001b[0m\u001b[1;33m.\u001b[0m\u001b[0m_stateful_fn\u001b[0m \u001b[1;32mis\u001b[0m \u001b[1;32mnot\u001b[0m \u001b[1;32mNone\u001b[0m\u001b[1;33m:\u001b[0m\u001b[1;33m\u001b[0m\u001b[1;33m\u001b[0m\u001b[0m\n\u001b[0;32m    919\u001b[0m       \u001b[1;31m# Release the lock early so that multiple threads can perform the call\u001b[0m\u001b[1;33m\u001b[0m\u001b[1;33m\u001b[0m\u001b[1;33m\u001b[0m\u001b[0m\n",
      "\u001b[1;32mC:\\Python39\\lib\\site-packages\\tensorflow\\python\\eager\\function.py\u001b[0m in \u001b[0;36m__call__\u001b[1;34m(self, *args, **kwargs)\u001b[0m\n\u001b[0;32m   3037\u001b[0m       (graph_function,\n\u001b[0;32m   3038\u001b[0m        filtered_flat_args) = self._maybe_define_function(args, kwargs)\n\u001b[1;32m-> 3039\u001b[1;33m     return graph_function._call_flat(\n\u001b[0m\u001b[0;32m   3040\u001b[0m         filtered_flat_args, captured_inputs=graph_function.captured_inputs)  # pylint: disable=protected-access\n\u001b[0;32m   3041\u001b[0m \u001b[1;33m\u001b[0m\u001b[0m\n",
      "\u001b[1;32mC:\\Python39\\lib\\site-packages\\tensorflow\\python\\eager\\function.py\u001b[0m in \u001b[0;36m_call_flat\u001b[1;34m(self, args, captured_inputs, cancellation_manager)\u001b[0m\n\u001b[0;32m   1961\u001b[0m         and executing_eagerly):\n\u001b[0;32m   1962\u001b[0m       \u001b[1;31m# No tape is watching; skip to running the function.\u001b[0m\u001b[1;33m\u001b[0m\u001b[1;33m\u001b[0m\u001b[1;33m\u001b[0m\u001b[0m\n\u001b[1;32m-> 1963\u001b[1;33m       return self._build_call_outputs(self._inference_function.call(\n\u001b[0m\u001b[0;32m   1964\u001b[0m           ctx, args, cancellation_manager=cancellation_manager))\n\u001b[0;32m   1965\u001b[0m     forward_backward = self._select_forward_and_backward_functions(\n",
      "\u001b[1;32mC:\\Python39\\lib\\site-packages\\tensorflow\\python\\eager\\function.py\u001b[0m in \u001b[0;36mcall\u001b[1;34m(self, ctx, args, cancellation_manager)\u001b[0m\n\u001b[0;32m    589\u001b[0m       \u001b[1;32mwith\u001b[0m \u001b[0m_InterpolateFunctionError\u001b[0m\u001b[1;33m(\u001b[0m\u001b[0mself\u001b[0m\u001b[1;33m)\u001b[0m\u001b[1;33m:\u001b[0m\u001b[1;33m\u001b[0m\u001b[1;33m\u001b[0m\u001b[0m\n\u001b[0;32m    590\u001b[0m         \u001b[1;32mif\u001b[0m \u001b[0mcancellation_manager\u001b[0m \u001b[1;32mis\u001b[0m \u001b[1;32mNone\u001b[0m\u001b[1;33m:\u001b[0m\u001b[1;33m\u001b[0m\u001b[1;33m\u001b[0m\u001b[0m\n\u001b[1;32m--> 591\u001b[1;33m           outputs = execute.execute(\n\u001b[0m\u001b[0;32m    592\u001b[0m               \u001b[0mstr\u001b[0m\u001b[1;33m(\u001b[0m\u001b[0mself\u001b[0m\u001b[1;33m.\u001b[0m\u001b[0msignature\u001b[0m\u001b[1;33m.\u001b[0m\u001b[0mname\u001b[0m\u001b[1;33m)\u001b[0m\u001b[1;33m,\u001b[0m\u001b[1;33m\u001b[0m\u001b[1;33m\u001b[0m\u001b[0m\n\u001b[0;32m    593\u001b[0m               \u001b[0mnum_outputs\u001b[0m\u001b[1;33m=\u001b[0m\u001b[0mself\u001b[0m\u001b[1;33m.\u001b[0m\u001b[0m_num_outputs\u001b[0m\u001b[1;33m,\u001b[0m\u001b[1;33m\u001b[0m\u001b[1;33m\u001b[0m\u001b[0m\n",
      "\u001b[1;32mC:\\Python39\\lib\\site-packages\\tensorflow\\python\\eager\\execute.py\u001b[0m in \u001b[0;36mquick_execute\u001b[1;34m(op_name, num_outputs, inputs, attrs, ctx, name)\u001b[0m\n\u001b[0;32m     57\u001b[0m   \u001b[1;32mtry\u001b[0m\u001b[1;33m:\u001b[0m\u001b[1;33m\u001b[0m\u001b[1;33m\u001b[0m\u001b[0m\n\u001b[0;32m     58\u001b[0m     \u001b[0mctx\u001b[0m\u001b[1;33m.\u001b[0m\u001b[0mensure_initialized\u001b[0m\u001b[1;33m(\u001b[0m\u001b[1;33m)\u001b[0m\u001b[1;33m\u001b[0m\u001b[1;33m\u001b[0m\u001b[0m\n\u001b[1;32m---> 59\u001b[1;33m     tensors = pywrap_tfe.TFE_Py_Execute(ctx._handle, device_name, op_name,\n\u001b[0m\u001b[0;32m     60\u001b[0m                                         inputs, attrs, num_outputs)\n\u001b[0;32m     61\u001b[0m   \u001b[1;32mexcept\u001b[0m \u001b[0mcore\u001b[0m\u001b[1;33m.\u001b[0m\u001b[0m_NotOkStatusException\u001b[0m \u001b[1;32mas\u001b[0m \u001b[0me\u001b[0m\u001b[1;33m:\u001b[0m\u001b[1;33m\u001b[0m\u001b[1;33m\u001b[0m\u001b[0m\n",
      "\u001b[1;31mKeyboardInterrupt\u001b[0m: "
     ]
    }
   ],
   "source": [
    "\n",
    "# train model\n",
    "train_model(network_input, network_output, model, filepath)"
   ]
  }
 ],
 "metadata": {
  "interpreter": {
   "hash": "63fd5069d213b44bf678585dea6b12cceca9941eaf7f819626cde1f2670de90d"
  },
  "kernelspec": {
   "display_name": "Python 3.9.6 64-bit",
   "language": "python",
   "name": "python3"
  },
  "language_info": {
   "codemirror_mode": {
    "name": "ipython",
    "version": 3
   },
   "file_extension": ".py",
   "mimetype": "text/x-python",
   "name": "python",
   "nbconvert_exporter": "python",
   "pygments_lexer": "ipython3",
   "version": "3.9.6"
  },
  "orig_nbformat": 4
 },
 "nbformat": 4,
 "nbformat_minor": 2
}
