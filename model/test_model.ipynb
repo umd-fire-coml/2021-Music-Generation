{
 "cells": [
  {
   "cell_type": "code",
   "execution_count": 4,
   "metadata": {},
   "outputs": [],
   "source": [
    "import sys\n",
    "\n",
    "sys.path.append('../data')\n",
    "\n",
    "from model import createModel\n",
    "from data_prep import prepare\n",
    "from clean import cleanup\n",
    "\n",
    "from predict import test_model\n",
    "\n",
    "from data_download_small import small"
   ]
  },
  {
   "cell_type": "code",
   "execution_count": 5,
   "metadata": {},
   "outputs": [
    {
     "name": "stdout",
     "output_type": "stream",
     "text": [
      "Done!\n"
     ]
    }
   ],
   "source": [
    "small()"
   ]
  },
  {
   "cell_type": "code",
   "execution_count": 6,
   "metadata": {},
   "outputs": [
    {
     "name": "stdout",
     "output_type": "stream",
     "text": [
      "model/midi_songs\\0fithos.mid\n",
      "Error parsing midi!\n",
      "model/midi_songs\\8.mid\n",
      "model/midi_songs\\ahead_on_our_way_piano.mid\n"
     ]
    },
    {
     "name": "stderr",
     "output_type": "stream",
     "text": [
      "C:\\Python39\\lib\\site-packages\\music21\\midi\\translate.py:790: TranslateWarning: Unable to determine instrument from <music21.midi.MidiEvent PROGRAM_CHANGE, track=0, channel=10, data=0>; getting generic UnpitchedPercussion\n",
      "  warnings.warn(\n"
     ]
    },
    {
     "name": "stdout",
     "output_type": "stream",
     "text": [
      "model/midi_songs\\AT.mid\n"
     ]
    },
    {
     "name": "stderr",
     "output_type": "stream",
     "text": [
      "C:\\Python39\\lib\\site-packages\\music21\\midi\\translate.py:790: TranslateWarning: Unable to determine instrument from <music21.midi.MidiEvent PROGRAM_CHANGE, track=0, channel=10, data=16>; getting generic UnpitchedPercussion\n",
      "  warnings.warn(\n"
     ]
    },
    {
     "name": "stdout",
     "output_type": "stream",
     "text": [
      "model/midi_songs\\balamb.mid\n",
      "model/midi_songs\\bcm.mid\n",
      "model/midi_songs\\BlueStone_LastDungeon.mid\n",
      "model/midi_songs\\braska.mid\n",
      "model/midi_songs\\caitsith.mid\n",
      "model/midi_songs\\Cids.mid\n",
      "model/midi_songs\\cosmo.mid\n",
      "model/midi_songs\\costadsol.mid\n",
      "model/midi_songs\\dayafter.mid\n",
      "model/midi_songs\\decisive.mid\n",
      "model/midi_songs\\dontbeafraid.mid\n",
      "model/midi_songs\\DOS.mid\n",
      "model/midi_songs\\electric_de_chocobo.mid\n",
      "Error parsing midi!\n",
      "model/midi_songs\\Eternal_Harvest.mid\n",
      "model/midi_songs\\EyesOnMePiano.mid\n",
      "model/midi_songs\\ff11_awakening_piano.mid\n",
      "model/midi_songs\\ff1battp.mid\n",
      "model/midi_songs\\FF3_Battle_(Piano).mid\n",
      "model/midi_songs\\FF3_Third_Phase_Final_(Piano).mid\n",
      "model/midi_songs\\ff4-airship.mid\n",
      "Error parsing midi!\n",
      "model/midi_songs\\Ff4-BattleLust.mid\n",
      "model/midi_songs\\ff4-fight1.mid\n",
      "model/midi_songs\\ff4-town.mid\n",
      "model/midi_songs\\FF4.mid\n",
      "model/midi_songs\\ff4pclov.mid\n",
      "model/midi_songs\\ff4_piano_collections-main_theme.mid\n",
      "Error parsing midi!\n",
      "model/midi_songs\\FF6epitaph_piano.mid\n",
      "Error parsing midi!\n",
      "model/midi_songs\\ff6shap.mid\n",
      "model/midi_songs\\Ff7-Cinco.mid\n",
      "model/midi_songs\\Ff7-Jenova_Absolute.mid\n",
      "model/midi_songs\\ff7-mainmidi.mid\n",
      "model/midi_songs\\Ff7-One_Winged.mid\n",
      "model/midi_songs\\ff7themep.mid\n"
     ]
    },
    {
     "name": "stderr",
     "output_type": "stream",
     "text": [
      "C:\\Python39\\lib\\site-packages\\music21\\midi\\translate.py:785: TranslateWarning: Unable to determine instrument from <music21.midi.MidiEvent SEQUENCE_TRACK_NAME, track=5, channel=None, data=b'Martin Rosok Copyright \\xa9 1998'>; getting generic Instrument\n",
      "  warnings.warn(\n"
     ]
    },
    {
     "name": "stdout",
     "output_type": "stream",
     "text": [
      "model/midi_songs\\ff8-lfp.mid\n",
      "model/midi_songs\\FF8_Shuffle_or_boogie_pc.mid\n",
      "model/midi_songs\\FFIII_Edgar_And_Sabin_Piano.mid\n",
      "model/midi_songs\\FFIXQuMarshP.mid\n",
      "model/midi_songs\\FFIX_Piano.mid\n",
      "model/midi_songs\\FFVII_BATTLE.mid\n",
      "model/midi_songs\\FFX_-_Ending_Theme_(Piano_Version)_-_by_Angel_FF.mid\n",
      "model/midi_songs\\Fiend_Battle_(Piano).mid\n",
      "model/midi_songs\\Fierce_Battle_(Piano).mid\n",
      "model/midi_songs\\figaro.mid\n",
      "Error parsing midi!\n",
      "model/midi_songs\\Finalfantasy5gilgameshp.mid\n",
      "model/midi_songs\\Finalfantasy6fanfarecomplete.mid\n",
      "model/midi_songs\\Final_Fantasy_7_-_Judgement_Day_Piano.mid\n",
      "Error parsing midi!\n",
      "model/midi_songs\\Final_Fantasy_Matouyas_Cave_Piano.mid\n",
      "model/midi_songs\\fortresscondor.mid\n",
      "model/midi_songs\\Fyw_piano.mid\n",
      "model/midi_songs\\gerudo.mid\n",
      "Error parsing midi!\n",
      "model/midi_songs\\goldsaucer.mid\n",
      "model/midi_songs\\Gold_Silver_Rival_Battle.mid\n",
      "model/midi_songs\\great_war.mid\n",
      "model/midi_songs\\HighwindTakestotheSkies.mid\n",
      "model/midi_songs\\In_Zanarkand.mid\n",
      "model/midi_songs\\JENOVA.mid\n",
      "model/midi_songs\\Kingdom_Hearts_Dearly_Beloved.mid\n",
      "Error parsing midi!\n",
      "model/midi_songs\\Kingdom_Hearts_Traverse_Town.mid\n",
      "model/midi_songs\\Life_Stream.mid\n",
      "model/midi_songs\\lurk_in_dark.mid\n",
      "model/midi_songs\\midi_songs_ff7-mainmidi.mid\n",
      "model/midi_songs\\mining.mid\n",
      "model/midi_songs\\Oppressed.mid\n",
      "model/midi_songs\\OTD5YA.mid\n",
      "model/midi_songs\\path_of_repentance.mid\n",
      "Error parsing midi!\n",
      "model/midi_songs\\pkelite4.mid\n",
      "model/midi_songs\\Rachel_Piano_tempofix.mid\n"
     ]
    },
    {
     "name": "stderr",
     "output_type": "stream",
     "text": [
      "C:\\Python39\\lib\\site-packages\\music21\\midi\\translate.py:785: TranslateWarning: Unable to determine instrument from <music21.midi.MidiEvent SEQUENCE_TRACK_NAME, track=6, channel=None, data=b'Pok\\xe9mon: Elite Four (Piano)'>; getting generic Instrument\n",
      "  warnings.warn(\n"
     ]
    },
    {
     "name": "stdout",
     "output_type": "stream",
     "text": [
      "model/midi_songs\\redwings.mid\n",
      "model/midi_songs\\relmstheme-piano.mid\n",
      "model/midi_songs\\roseofmay-piano.mid\n",
      "model/midi_songs\\rufus.mid\n",
      "model/midi_songs\\Rydia_pc.mid\n",
      "model/midi_songs\\sandy.mid\n",
      "model/midi_songs\\sera_.mid\n",
      "model/midi_songs\\sobf.mid\n",
      "model/midi_songs\\Still_Alive-1.mid\n",
      "model/midi_songs\\Suteki_Da_Ne_(Piano_Version).mid\n",
      "Error parsing midi!\n",
      "model/midi_songs\\thenightmarebegins.mid\n",
      "model/midi_songs\\thoughts.mid\n",
      "Error parsing midi!\n",
      "model/midi_songs\\tifap.mid\n",
      "model/midi_songs\\tpirtsd-piano.mid\n",
      "model/midi_songs\\traitor.mid\n",
      "model/midi_songs\\ultimafro.mid\n",
      "model/midi_songs\\ultros.mid\n",
      "model/midi_songs\\VincentPiano.mid\n",
      "Error parsing midi!\n",
      "model/midi_songs\\ViviinAlexandria.mid\n",
      "Error parsing midi!\n",
      "model/midi_songs\\waltz_de_choco.mid\n",
      "model/midi_songs\\Zelda_Overworld.mid\n",
      "model/midi_songs\\z_aeristhemepiano.mid\n"
     ]
    },
    {
     "ename": "OSError",
     "evalue": "Unable to open file (unable to open file: name = 'model/weights.hdf5', errno = 2, error message = 'No such file or directory', flags = 0, o_flags = 0)",
     "output_type": "error",
     "traceback": [
      "\u001b[1;31m---------------------------------------------------------------------------\u001b[0m",
      "\u001b[1;31mOSError\u001b[0m                                   Traceback (most recent call last)",
      "\u001b[1;32m~\\AppData\\Local\\Temp/ipykernel_31148/2576009216.py\u001b[0m in \u001b[0;36m<module>\u001b[1;34m\u001b[0m\n\u001b[0;32m      4\u001b[0m \u001b[0mmodel\u001b[0m \u001b[1;33m=\u001b[0m \u001b[0mcreateModel\u001b[0m\u001b[1;33m(\u001b[0m\u001b[0mnetwork_input\u001b[0m\u001b[1;33m,\u001b[0m \u001b[0mn_vocab\u001b[0m\u001b[1;33m)\u001b[0m\u001b[1;33m\u001b[0m\u001b[1;33m\u001b[0m\u001b[0m\n\u001b[0;32m      5\u001b[0m \u001b[1;31m# Load the weights to each node\u001b[0m\u001b[1;33m\u001b[0m\u001b[1;33m\u001b[0m\u001b[1;33m\u001b[0m\u001b[0m\n\u001b[1;32m----> 6\u001b[1;33m \u001b[0mmodel\u001b[0m\u001b[1;33m.\u001b[0m\u001b[0mload_weights\u001b[0m\u001b[1;33m(\u001b[0m\u001b[1;34m'model/weights.hdf5'\u001b[0m\u001b[1;33m)\u001b[0m\u001b[1;33m\u001b[0m\u001b[1;33m\u001b[0m\u001b[0m\n\u001b[0m",
      "\u001b[1;32mC:\\Python39\\lib\\site-packages\\keras\\engine\\training.py\u001b[0m in \u001b[0;36mload_weights\u001b[1;34m(self, filepath, by_name, skip_mismatch, options)\u001b[0m\n\u001b[0;32m   2352\u001b[0m             'first, then load the weights.')\n\u001b[0;32m   2353\u001b[0m       \u001b[0mself\u001b[0m\u001b[1;33m.\u001b[0m\u001b[0m_assert_weights_created\u001b[0m\u001b[1;33m(\u001b[0m\u001b[1;33m)\u001b[0m\u001b[1;33m\u001b[0m\u001b[1;33m\u001b[0m\u001b[0m\n\u001b[1;32m-> 2354\u001b[1;33m       \u001b[1;32mwith\u001b[0m \u001b[0mh5py\u001b[0m\u001b[1;33m.\u001b[0m\u001b[0mFile\u001b[0m\u001b[1;33m(\u001b[0m\u001b[0mfilepath\u001b[0m\u001b[1;33m,\u001b[0m \u001b[1;34m'r'\u001b[0m\u001b[1;33m)\u001b[0m \u001b[1;32mas\u001b[0m \u001b[0mf\u001b[0m\u001b[1;33m:\u001b[0m\u001b[1;33m\u001b[0m\u001b[1;33m\u001b[0m\u001b[0m\n\u001b[0m\u001b[0;32m   2355\u001b[0m         \u001b[1;32mif\u001b[0m \u001b[1;34m'layer_names'\u001b[0m \u001b[1;32mnot\u001b[0m \u001b[1;32min\u001b[0m \u001b[0mf\u001b[0m\u001b[1;33m.\u001b[0m\u001b[0mattrs\u001b[0m \u001b[1;32mand\u001b[0m \u001b[1;34m'model_weights'\u001b[0m \u001b[1;32min\u001b[0m \u001b[0mf\u001b[0m\u001b[1;33m:\u001b[0m\u001b[1;33m\u001b[0m\u001b[1;33m\u001b[0m\u001b[0m\n\u001b[0;32m   2356\u001b[0m           \u001b[0mf\u001b[0m \u001b[1;33m=\u001b[0m \u001b[0mf\u001b[0m\u001b[1;33m[\u001b[0m\u001b[1;34m'model_weights'\u001b[0m\u001b[1;33m]\u001b[0m\u001b[1;33m\u001b[0m\u001b[1;33m\u001b[0m\u001b[0m\n",
      "\u001b[1;32mC:\\Python39\\lib\\site-packages\\h5py\\_hl\\files.py\u001b[0m in \u001b[0;36m__init__\u001b[1;34m(self, name, mode, driver, libver, userblock_size, swmr, rdcc_nslots, rdcc_nbytes, rdcc_w0, track_order, fs_strategy, fs_persist, fs_threshold, **kwds)\u001b[0m\n\u001b[0;32m    422\u001b[0m             \u001b[1;32mwith\u001b[0m \u001b[0mphil\u001b[0m\u001b[1;33m:\u001b[0m\u001b[1;33m\u001b[0m\u001b[1;33m\u001b[0m\u001b[0m\n\u001b[0;32m    423\u001b[0m                 \u001b[0mfapl\u001b[0m \u001b[1;33m=\u001b[0m \u001b[0mmake_fapl\u001b[0m\u001b[1;33m(\u001b[0m\u001b[0mdriver\u001b[0m\u001b[1;33m,\u001b[0m \u001b[0mlibver\u001b[0m\u001b[1;33m,\u001b[0m \u001b[0mrdcc_nslots\u001b[0m\u001b[1;33m,\u001b[0m \u001b[0mrdcc_nbytes\u001b[0m\u001b[1;33m,\u001b[0m \u001b[0mrdcc_w0\u001b[0m\u001b[1;33m,\u001b[0m \u001b[1;33m**\u001b[0m\u001b[0mkwds\u001b[0m\u001b[1;33m)\u001b[0m\u001b[1;33m\u001b[0m\u001b[1;33m\u001b[0m\u001b[0m\n\u001b[1;32m--> 424\u001b[1;33m                 fid = make_fid(name, mode, userblock_size,\n\u001b[0m\u001b[0;32m    425\u001b[0m                                fapl, fcpl=make_fcpl(track_order=track_order, fs_strategy=fs_strategy,\n\u001b[0;32m    426\u001b[0m                                fs_persist=fs_persist, fs_threshold=fs_threshold),\n",
      "\u001b[1;32mC:\\Python39\\lib\\site-packages\\h5py\\_hl\\files.py\u001b[0m in \u001b[0;36mmake_fid\u001b[1;34m(name, mode, userblock_size, fapl, fcpl, swmr)\u001b[0m\n\u001b[0;32m    188\u001b[0m         \u001b[1;32mif\u001b[0m \u001b[0mswmr\u001b[0m \u001b[1;32mand\u001b[0m \u001b[0mswmr_support\u001b[0m\u001b[1;33m:\u001b[0m\u001b[1;33m\u001b[0m\u001b[1;33m\u001b[0m\u001b[0m\n\u001b[0;32m    189\u001b[0m             \u001b[0mflags\u001b[0m \u001b[1;33m|=\u001b[0m \u001b[0mh5f\u001b[0m\u001b[1;33m.\u001b[0m\u001b[0mACC_SWMR_READ\u001b[0m\u001b[1;33m\u001b[0m\u001b[1;33m\u001b[0m\u001b[0m\n\u001b[1;32m--> 190\u001b[1;33m         \u001b[0mfid\u001b[0m \u001b[1;33m=\u001b[0m \u001b[0mh5f\u001b[0m\u001b[1;33m.\u001b[0m\u001b[0mopen\u001b[0m\u001b[1;33m(\u001b[0m\u001b[0mname\u001b[0m\u001b[1;33m,\u001b[0m \u001b[0mflags\u001b[0m\u001b[1;33m,\u001b[0m \u001b[0mfapl\u001b[0m\u001b[1;33m=\u001b[0m\u001b[0mfapl\u001b[0m\u001b[1;33m)\u001b[0m\u001b[1;33m\u001b[0m\u001b[1;33m\u001b[0m\u001b[0m\n\u001b[0m\u001b[0;32m    191\u001b[0m     \u001b[1;32melif\u001b[0m \u001b[0mmode\u001b[0m \u001b[1;33m==\u001b[0m \u001b[1;34m'r+'\u001b[0m\u001b[1;33m:\u001b[0m\u001b[1;33m\u001b[0m\u001b[1;33m\u001b[0m\u001b[0m\n\u001b[0;32m    192\u001b[0m         \u001b[0mfid\u001b[0m \u001b[1;33m=\u001b[0m \u001b[0mh5f\u001b[0m\u001b[1;33m.\u001b[0m\u001b[0mopen\u001b[0m\u001b[1;33m(\u001b[0m\u001b[0mname\u001b[0m\u001b[1;33m,\u001b[0m \u001b[0mh5f\u001b[0m\u001b[1;33m.\u001b[0m\u001b[0mACC_RDWR\u001b[0m\u001b[1;33m,\u001b[0m \u001b[0mfapl\u001b[0m\u001b[1;33m=\u001b[0m\u001b[0mfapl\u001b[0m\u001b[1;33m)\u001b[0m\u001b[1;33m\u001b[0m\u001b[1;33m\u001b[0m\u001b[0m\n",
      "\u001b[1;32mh5py\\_objects.pyx\u001b[0m in \u001b[0;36mh5py._objects.with_phil.wrapper\u001b[1;34m()\u001b[0m\n",
      "\u001b[1;32mh5py\\_objects.pyx\u001b[0m in \u001b[0;36mh5py._objects.with_phil.wrapper\u001b[1;34m()\u001b[0m\n",
      "\u001b[1;32mh5py\\h5f.pyx\u001b[0m in \u001b[0;36mh5py.h5f.open\u001b[1;34m()\u001b[0m\n",
      "\u001b[1;31mOSError\u001b[0m: Unable to open file (unable to open file: name = 'model/weights.hdf5', errno = 2, error message = 'No such file or directory', flags = 0, o_flags = 0)"
     ]
    }
   ],
   "source": [
    "cleanup()\n",
    "\n",
    "network_input, network_output, n_vocab, pitchnames, sequence_length = prepare()\n",
    "model = createModel(network_input, n_vocab)\n",
    "# Load the weights to each node\n",
    "model.load_weights('model/weights.hdf5')"
   ]
  },
  {
   "cell_type": "code",
   "execution_count": null,
   "metadata": {},
   "outputs": [],
   "source": [
    "test_model(network_input, network_output, n_vocab, pitchnames, sequence_length, model)"
   ]
  }
 ],
 "metadata": {
  "interpreter": {
   "hash": "63fd5069d213b44bf678585dea6b12cceca9941eaf7f819626cde1f2670de90d"
  },
  "kernelspec": {
   "display_name": "Python 3.9.6 64-bit",
   "language": "python",
   "name": "python3"
  },
  "language_info": {
   "codemirror_mode": {
    "name": "ipython",
    "version": 3
   },
   "file_extension": ".py",
   "mimetype": "text/x-python",
   "name": "python",
   "nbconvert_exporter": "python",
   "pygments_lexer": "ipython3",
   "version": "3.9.6"
  },
  "orig_nbformat": 4
 },
 "nbformat": 4,
 "nbformat_minor": 2
}
