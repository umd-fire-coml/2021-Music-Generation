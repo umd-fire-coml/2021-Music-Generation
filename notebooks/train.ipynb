{
 "cells": [
  {
   "cell_type": "code",
   "execution_count": null,
   "source": [
    "# Input for anchor, positive, negative\r\n",
    "\r\n",
    "in_array = Input(shape=(96, 96, 3), name=\"img_a\")\r\n",
    "\r\n",
    "# create base model\r\n",
    "model = create_model()\r\n",
    "\r\n",
    "# Output embedding vectors from anchor, positive, negative\r\n",
    "# Model wegihts are shared (Triplet)\r\n",
    "model_in = model(in_array)\r\n",
    "\r\n",
    "# layer that computes the triplet loss from anchor, positive, and negative embedding vectors\r\n",
    "loss_function = LossLayer(arguments)([model_in])\r\n",
    "\r\n",
    "# Model that can be trained with anchor, positive, negative images\r\n",
    "model = Model([in_array], loss_function)\r\n",
    "\r\n",
    "# load weights\r\n",
    "# model.load_weights('ckpts/coml-weights-aug6.hdf5'"
   ],
   "outputs": [],
   "metadata": {}
  },
  {
   "cell_type": "code",
   "execution_count": null,
   "source": [
    "# Initialize the Preprocessor\r\n",
    "\r\n",
    "batchsize = 10\r\n",
    "generator = DataGenerator(arguments)"
   ],
   "outputs": [],
   "metadata": {}
  },
  {
   "cell_type": "code",
   "execution_count": null,
   "source": [
    "# Run the training\r\n",
    "from tensorflow.keras.callbacks import ModelCheckpoint, EarlyStopping\r\n",
    "\r\n",
    "EPOCHS = 100\r\n",
    "generator.batch_size = 16\r\n",
    "\r\n",
    "model.compile(loss=None, optimizer='adam')\r\n",
    "with tf.device('/gpu:0'):\r\n",
    "    history = model.fit_generator(generator=generator,\r\n",
    "                                  epochs=EPOCHS,\r\n",
    "                                  callbacks=[ModelCheckpoint(filepath='ckpts/epoch{epoch:03d}_loss{loss:.3f}.hdf5',\r\n",
    "                                                             monitor='loss',\r\n",
    "                                                             save_best_only=False,\r\n",
    "                                                             mode='auto',\r\n",
    "                                                             save_weights_only=True,\r\n",
    "                                                             verbose=1),\r\n",
    "                                             EarlyStopping(monitor='loss',\r\n",
    "                                                           mode='auto',\r\n",
    "                                                           patience=10,\r\n",
    "                                                           verbose=True\r\n",
    "                                                           )])"
   ],
   "outputs": [],
   "metadata": {}
  }
 ],
 "metadata": {
  "orig_nbformat": 4,
  "language_info": {
   "name": "python",
   "version": "3.8.11"
  },
  "kernelspec": {
   "name": "python3",
   "display_name": "Python 3.8.11 64-bit ('2021-music-generation': conda)"
  },
  "interpreter": {
   "hash": "c16c382a13fd833fe0c08c84fb164c3fac519413390891b24d99a8d8fd07836a"
  }
 },
 "nbformat": 4,
 "nbformat_minor": 2
}